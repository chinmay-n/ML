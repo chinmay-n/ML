{
  "cells": [
    {
      "cell_type": "markdown",
      "metadata": {
        "id": "view-in-github",
        "colab_type": "text"
      },
      "source": [
        "<a href=\"https://colab.research.google.com/github/chinmay-n/ML/blob/main/lab_music_partial.ipynb\" target=\"_parent\"><img src=\"https://colab.research.google.com/assets/colab-badge.svg\" alt=\"Open In Colab\"/></a>"
      ]
    },
    {
      "cell_type": "markdown",
      "metadata": {
        "id": "jJnyRzIzzFkv"
      },
      "source": [
        "# Lab:  Neural Networks for Music Classification\n",
        "\n",
        "In addition to the concepts in the [MNIST neural network demo](./demo2_mnist_neural.ipynb), in this lab, you will learn to:\n",
        "* Load a file from a URL\n",
        "* Extract simple features from audio samples for machine learning tasks such as speech recognition and classification\n",
        "* Build a simple neural network for music classification using these features\n",
        "* Use a callback to store the loss and accuracy history in the training process\n",
        "* Optimize the learning rate of the neural network\n",
        "\n",
        "To illustrate the basic concepts, we will look at a relatively simple music classification problem.  Given a sample of music, we want to determine which instrument (e.g. trumpet, violin, piano) is playing.  This dataset was generously supplied by [Prof. Juan Bello](http://steinhardt.nyu.edu/faculty/Juan_Pablo_Bello) at NYU Stenihardt  and his former PhD student Eric Humphrey (now at Spotify).  They have a complete website dedicated to deep learning methods in music informatics:\n",
        "\n",
        "http://marl.smusic.nyu.edu/wordpress/projects/feature-learning-deep-architectures/deep-learning-python-tutorial/\n",
        "\n",
        "You can also check out Juan's <a href=\"http://www.nyu.edu/classes/bello/ACA.html\">course</a>.\n",
        "\n"
      ]
    },
    {
      "cell_type": "markdown",
      "metadata": {
        "id": "bXK3skSOzFk0"
      },
      "source": [
        "## Loading Tensorflow\n",
        "\n",
        "Before starting this lab, you will need to install [Tensorflow](https://www.tensorflow.org/install/).  If you are using [Google colaboratory](https://colab.research.google.com), Tensorflow is already installed.  Run the following command to ensure Tensorflow is installed."
      ]
    },
    {
      "cell_type": "code",
      "execution_count": 1,
      "metadata": {
        "id": "JVGcy3FozFk0"
      },
      "outputs": [],
      "source": [
        "import tensorflow as tf"
      ]
    },
    {
      "cell_type": "markdown",
      "metadata": {
        "id": "sPWng_J2zFk1"
      },
      "source": [
        "Then, load the other packages."
      ]
    },
    {
      "cell_type": "code",
      "execution_count": 2,
      "metadata": {
        "id": "kZzg1-p7zFk1"
      },
      "outputs": [],
      "source": [
        "import numpy as np\n",
        "import matplotlib\n",
        "import matplotlib.pyplot as plt"
      ]
    },
    {
      "cell_type": "markdown",
      "metadata": {
        "id": "QHrMDuUBzFk2"
      },
      "source": [
        "## Audio Feature Extraction with Librosa\n",
        "\n",
        "The key to audio classification is to extract the correct features. In addition to `keras`, we will need the `librosa` package.  The `librosa` package in python has a rich set of methods extracting the features of audio samples commonly used in machine learning tasks such as speech recognition and sound classification. \n",
        "\n",
        "Installation instructions and complete documentation for the package are given on the [librosa main page](https://librosa.github.io/librosa/).  On most systems, you should be able to simply use:\n",
        "\n",
        "    pip install librosa\n",
        "    \n",
        "For Unix, you may need to load some additional packages:\n",
        "\n",
        "    sudo apt-get install build-essential\n",
        "    sudo apt-get install libxext-dev python-qt4 qt4-dev-tools\n",
        "    pip install librosa\n",
        "    \n",
        "After you have installed the package, try to import it."
      ]
    },
    {
      "cell_type": "code",
      "execution_count": 3,
      "metadata": {
        "id": "Q-Qb6WP_zFk2"
      },
      "outputs": [],
      "source": [
        "import librosa\n",
        "import librosa.display\n",
        "import librosa.feature"
      ]
    },
    {
      "cell_type": "markdown",
      "metadata": {
        "id": "mW84tqefzFk2"
      },
      "source": [
        "In this lab, we will use a set of music samples from the website:\n",
        "\n",
        "http://theremin.music.uiowa.edu\n",
        "\n",
        "This website has a great set of samples for audio processing.  Look on the web for how to use the `requests.get` and `file.write` commands to load the file at the URL provided into your working directory.\n",
        "\n",
        "You can play the audio sample by copying the file to your local machine and playing it on any media player.  If you listen to it you will hear a soprano saxaphone (with vibrato) playing four notes (C, C#, D, Eb)."
      ]
    },
    {
      "cell_type": "code",
      "execution_count": 4,
      "metadata": {
        "colab": {
          "base_uri": "https://localhost:8080/"
        },
        "id": "suUgK0a9zFk3",
        "outputId": "99b13987-2c38-4fd4-ab4b-8a53bd0e405e"
      },
      "outputs": [
        {
          "output_type": "execute_result",
          "data": {
            "text/plain": [
              "1418242"
            ]
          },
          "metadata": {},
          "execution_count": 4
        }
      ],
      "source": [
        "import requests\n",
        "fn = \"SopSax.Vib.pp.C6Eb6.aiff\"\n",
        "url = \"http://theremin.music.uiowa.edu/sound files/MIS/Woodwinds/sopranosaxophone/\"+fn\n",
        "\n",
        "# TODO 1:  Load the file from url and save it in a file under the name fn\n",
        "response = requests.get(url)\n",
        "open(fn, \"wb\").write(response.content)"
      ]
    },
    {
      "cell_type": "markdown",
      "metadata": {
        "id": "Ay4TzhYtzFk3"
      },
      "source": [
        "Next, use `librosa` command `librosa.load` to read the audio file with filename `fn` and get the samples `y` and sample rate `sr`."
      ]
    },
    {
      "cell_type": "code",
      "execution_count": 5,
      "metadata": {
        "id": "z27H19WfzFk3",
        "colab": {
          "base_uri": "https://localhost:8080/"
        },
        "outputId": "0fba9bd9-5348-45da-dacd-8da3f8fadf1d"
      },
      "outputs": [
        {
          "output_type": "stream",
          "name": "stdout",
          "text": [
            "Samples [ 0.          0.          0.         ... -0.00370146 -0.00433821\n",
            "  0.        ]\n",
            "Sample rate: 22050\n"
          ]
        }
      ],
      "source": [
        "# TODO 2\n",
        "y, sr = librosa.load(fn)\n",
        "\n",
        "print(\"Samples\",y)\n",
        "\n",
        "print(\"Sample rate:\",sr)"
      ]
    },
    {
      "cell_type": "markdown",
      "metadata": {
        "id": "-TL1eyRazFk3"
      },
      "source": [
        "Extracting features from audio files is an entire subject on its own right.  A commonly used set of features are called the Mel Frequency Cepstral Coefficients (MFCCs).  These are derived from the so-called mel spectrogram which is something like a regular spectrogram, but the power and frequency are represented in log scale, which more naturally aligns with human perceptual processing.  You can run the code below to display the mel spectrogram from the audio sample.\n",
        "\n",
        "You can easily see the four notes played in the audio track.  You also see the 'harmonics' of each notes, which are other tones at integer multiples of the fundamental frequency of each note."
      ]
    },
    {
      "cell_type": "code",
      "execution_count": 6,
      "metadata": {
        "colab": {
          "base_uri": "https://localhost:8080/",
          "height": 297
        },
        "id": "WZUUKl0jzFk4",
        "outputId": "e5c72ee5-c5eb-415e-d6e5-0264aeb9266b"
      },
      "outputs": [
        {
          "output_type": "display_data",
          "data": {
            "text/plain": [
              "<Figure size 432x288 with 2 Axes>"
            ],
            "image/png": "[encoded data removed]"
          },
          "metadata": {
            "needs_background": "light"
          }
        }
      ],
      "source": [
        "S = librosa.feature.melspectrogram(y=y, sr=sr, n_mels=128, fmax=8000)\n",
        "librosa.display.specshow(librosa.amplitude_to_db(S),\n",
        "                         y_axis='mel', fmax=8000, x_axis='time')\n",
        "plt.colorbar(format='%+2.0f dB')\n",
        "plt.title('Mel spectrogram')\n",
        "plt.tight_layout()"
      ]
    },
    {
      "cell_type": "markdown",
      "metadata": {
        "id": "7rzQT35vzFk4"
      },
      "source": [
        "## Downloading the Data\n",
        "\n",
        "Using the MFCC features described above, Eric Humphrey and Juan Bellow have created a complete data set that can used for instrument classification.  Essentially, they collected a number of data files from the website above.  For each audio file, the segmented the track into notes and then extracted 120 MFCCs for each note.  The goal is to recognize the instrument from the 120 MFCCs.  The process of feature extraction is quite involved.  So, we will just use their processed data provided at:\n",
        "\n",
        "https://github.com/marl/dl4mir-tutorial/blob/master/README.md\n",
        "\n",
        "Note the password.  Load the four files into some directory, say  `instrument_dataset`.  Then, load them with the commands."
      ]
    },
    {
      "cell_type": "code",
      "execution_count": 7,
      "metadata": {
        "id": "znygTg8vzFk4"
      },
      "outputs": [],
      "source": [
        "data_dir = 'instrument_dataset/'\n",
        "Xtr = np.load(data_dir+'uiowa_train_data.npy')\n",
        "ytr = np.load(data_dir+'uiowa_train_labels.npy')\n",
        "Xts = np.load(data_dir+'uiowa_test_data.npy')\n",
        "yts = np.load(data_dir+'uiowa_test_labels.npy')"
      ]
    },
    {
      "cell_type": "markdown",
      "metadata": {
        "id": "q5pwr0h4zFk4"
      },
      "source": [
        "Looking at the data files:\n",
        "* What are the number of training and test samples?\n",
        "* What is the number of features for each sample?\n",
        "* How many classes (i.e. instruments) are there per class?\n"
      ]
    },
    {
      "cell_type": "code",
      "execution_count": 8,
      "metadata": {
        "colab": {
          "base_uri": "https://localhost:8080/"
        },
        "id": "hiCPjAJ-zFk5",
        "outputId": "c2a79160-c36a-42d8-e5b1-19cab1bdee49"
      },
      "outputs": [
        {
          "output_type": "stream",
          "name": "stdout",
          "text": [
            "Train data samples: 66247\n",
            "Test data samples: 14904\n",
            "Number of samples: 120\n",
            "Label Count: 10\n"
          ]
        }
      ],
      "source": [
        "# TODO 3\n",
        "print(\"Train data samples:\",Xtr.shape[0])\n",
        "print(\"Test data samples:\",Xts.shape[0])\n",
        "print(\"Number of samples:\", Xtr.shape[1])\n",
        "print(\"Label Count:\",max(ytr)+1)"
      ]
    },
    {
      "cell_type": "markdown",
      "metadata": {
        "id": "doRekeWKzFk5"
      },
      "source": [
        "Before continuing, you must scale the training and test data, `Xtr` and `Xts`.  Compute the mean and std deviation of each feature in `Xtr` and create a new training data set, `Xtr_scale`, by subtracting the mean and dividing by the std deviation.  Also compute a scaled test data set, `Xts_scale` using the mean and std deviation learned from the training data set."
      ]
    },
    {
      "cell_type": "code",
      "execution_count": 9,
      "metadata": {
        "id": "8MR1ZdZezFk5"
      },
      "outputs": [],
      "source": [
        "# TODO 4: Scale the training and test matrices\n",
        "mean = np.mean(Xtr,axis=0)\n",
        "std = np.std(Xtr,axis=0)\n",
        "\n",
        "Xtr_scale = (Xtr - mean)/std\n",
        "Xts_scale = (Xts - mean)/std"
      ]
    },
    {
      "cell_type": "markdown",
      "metadata": {
        "collapsed": true,
        "id": "Lkb1jJ6czFk5"
      },
      "source": [
        "## Building a Neural Network Classifier\n",
        "\n",
        "Following the example in [MNIST neural network demo](./mnist_neural.ipynb), clear the keras session.  Then, create a neural network `model` with:\n",
        "* `nh=256` hidden units\n",
        "* `sigmoid` activation\n",
        "* select the input and output shapes correctly\n",
        "* print the model summary"
      ]
    },
    {
      "cell_type": "code",
      "execution_count": 10,
      "metadata": {
        "id": "MNlnxHm8zFk6"
      },
      "outputs": [],
      "source": [
        "from tensorflow.keras.models import Model, Sequential\n",
        "from tensorflow.keras.layers import Dense, Activation\n",
        "import tensorflow.keras.backend as K\n"
      ]
    },
    {
      "cell_type": "code",
      "execution_count": 11,
      "metadata": {
        "id": "oNahY4mfzFk6"
      },
      "outputs": [],
      "source": [
        "# TODO 5 clear session\n",
        "K.clear_session()"
      ]
    },
    {
      "cell_type": "code",
      "execution_count": 12,
      "metadata": {
        "id": "U-FgCR_LzFk6"
      },
      "outputs": [],
      "source": [
        "# TODO 6: construct the model\n",
        "nin = Xtr.shape[1]  \n",
        "nh = 256     \n",
        "nout = int(np.max(ytr)+1)    \n",
        "model = Sequential()\n",
        "model.add(Dense(units=nh, input_shape=(nin,), activation='sigmoid', name='hidden'))\n",
        "model.add(Dense(units=nout, activation='softmax', name='output'))"
      ]
    },
    {
      "cell_type": "code",
      "execution_count": 13,
      "metadata": {
        "colab": {
          "base_uri": "https://localhost:8080/"
        },
        "id": "fRsaHGZ5zFk6",
        "outputId": "8ceeb5e7-63e5-4424-d63d-68408e90978c"
      },
      "outputs": [
        {
          "output_type": "stream",
          "name": "stdout",
          "text": [
            "Model: \"sequential\"\n",
            "_________________________________________________________________\n",
            " Layer (type)                Output Shape              Param #   \n",
            "=================================================================\n",
            " hidden (Dense)              (None, 256)               30976     \n",
            "                                                                 \n",
            " output (Dense)              (None, 10)                2570      \n",
            "                                                                 \n",
            "=================================================================\n",
            "Total params: 33,546\n",
            "Trainable params: 33,546\n",
            "Non-trainable params: 0\n",
            "_________________________________________________________________\n"
          ]
        }
      ],
      "source": [
        "# TODO 7:  Print the model summary\n",
        "model.summary()"
      ]
    },
    {
      "cell_type": "markdown",
      "metadata": {
        "id": "646yqaeCzFk7"
      },
      "source": [
        "Create an optimizer and compile the model.  Select the appropriate loss function and metrics.  For the optimizer, use the Adam optimizer with a learning rate of 0.001"
      ]
    },
    {
      "cell_type": "code",
      "execution_count": 14,
      "metadata": {
        "scrolled": true,
        "id": "Kx3gsXNnzFk7"
      },
      "outputs": [],
      "source": [
        "# TODO 8\n",
        "from tensorflow.keras import optimizers\n",
        "\n",
        "opt = optimizers.Adam(learning_rate=0.001) \n",
        "\n",
        "model.compile(optimizer=opt,\n",
        "              loss='sparse_categorical_crossentropy',\n",
        "              metrics=['accuracy'])"
      ]
    },
    {
      "cell_type": "markdown",
      "metadata": {
        "id": "QOTwImrszFk7"
      },
      "source": [
        "Fit the model for 10 epochs using the scaled data for both the training and validation.  Use the `validation_data` option to pass the test data.  Also, pass the callback class create above.  Use a batch size of 100.  Your final accuracy should be >99%."
      ]
    },
    {
      "cell_type": "code",
      "execution_count": 15,
      "metadata": {
        "scrolled": true,
        "colab": {
          "base_uri": "https://localhost:8080/"
        },
        "id": "gdI5PgQ_zFk7",
        "outputId": "eedd4d74-b6d1-4432-9e00-9394d628a01c"
      },
      "outputs": [
        {
          "output_type": "stream",
          "name": "stdout",
          "text": [
            "Epoch 1/10\n",
            "663/663 [==============================] - 7s 8ms/step - loss: 0.3533 - accuracy: 0.9050 - val_loss: 0.1746 - val_accuracy: 0.9549\n",
            "Epoch 2/10\n",
            "663/663 [==============================] - 4s 6ms/step - loss: 0.0996 - accuracy: 0.9764 - val_loss: 0.1022 - val_accuracy: 0.9719\n",
            "Epoch 3/10\n",
            "663/663 [==============================] - 3s 4ms/step - loss: 0.0589 - accuracy: 0.9857 - val_loss: 0.0555 - val_accuracy: 0.9881\n",
            "Epoch 4/10\n",
            "663/663 [==============================] - 3s 4ms/step - loss: 0.0415 - accuracy: 0.9899 - val_loss: 0.0460 - val_accuracy: 0.9875\n",
            "Epoch 5/10\n",
            "663/663 [==============================] - 3s 4ms/step - loss: 0.0315 - accuracy: 0.9919 - val_loss: 0.0395 - val_accuracy: 0.9902\n",
            "Epoch 6/10\n",
            "663/663 [==============================] - 3s 4ms/step - loss: 0.0249 - accuracy: 0.9937 - val_loss: 0.0349 - val_accuracy: 0.9900\n",
            "Epoch 7/10\n",
            "663/663 [==============================] - 4s 5ms/step - loss: 0.0206 - accuracy: 0.9948 - val_loss: 0.0302 - val_accuracy: 0.9910\n",
            "Epoch 8/10\n",
            "663/663 [==============================] - 3s 4ms/step - loss: 0.0171 - accuracy: 0.9957 - val_loss: 0.0266 - val_accuracy: 0.9922\n",
            "Epoch 9/10\n",
            "663/663 [==============================] - 3s 4ms/step - loss: 0.0147 - accuracy: 0.9959 - val_loss: 0.0244 - val_accuracy: 0.9928\n",
            "Epoch 10/10\n",
            "663/663 [==============================] - 3s 4ms/step - loss: 0.0126 - accuracy: 0.9968 - val_loss: 0.0254 - val_accuracy: 0.9911\n"
          ]
        }
      ],
      "source": [
        "# TODO 9\n",
        "hist = model.fit(Xtr_scale, ytr, epochs=10, batch_size=100, validation_data=(Xts_scale,yts))"
      ]
    },
    {
      "cell_type": "markdown",
      "metadata": {
        "id": "HG3QmbcazFk7"
      },
      "source": [
        "Plot the validation accuracy saved in `hist.history` dictionary. This gives one accuracy value per epoch.  You should see that the validation accuracy saturates at a little higher than 99%.  After that it \"bounces around\" due to the noise in the stochastic gradient descent."
      ]
    },
    {
      "cell_type": "code",
      "execution_count": 16,
      "metadata": {
        "colab": {
          "base_uri": "https://localhost:8080/",
          "height": 297
        },
        "id": "57YN7JcjzFk7",
        "outputId": "78337fbc-d715-4248-fffd-86bba5f9ee12"
      },
      "outputs": [
        {
          "output_type": "execute_result",
          "data": {
            "text/plain": [
              "<matplotlib.legend.Legend at 0x7f9ddd9f85d0>"
            ]
          },
          "metadata": {},
          "execution_count": 16
        },
        {
          "output_type": "display_data",
          "data": {
            "text/plain": [
              "<Figure size 432x288 with 1 Axes>"
            ],
            "image/png": "[encoded data removed]"
          },
          "metadata": {
            "needs_background": "light"
          }
        }
      ],
      "source": [
        "# TODO 10\n",
        "plt.xlabel(\"Epoch #\")\n",
        "plt.ylabel(\"Accuracy\")\n",
        "plt.plot(hist.history[\"accuracy\"],label=\"Training\")\n",
        "plt.plot(hist.history[\"val_accuracy\"],label=\"Validation\")\n",
        "plt.legend()"
      ]
    },
    {
      "cell_type": "markdown",
      "metadata": {
        "id": "9tCuEZRbzFk8"
      },
      "source": [
        "Plot the loss values saved in the `hist.history` dictionary.  You should see that the loss is steadily decreasing.  Use the `semilogy` plot."
      ]
    },
    {
      "cell_type": "code",
      "execution_count": 17,
      "metadata": {
        "colab": {
          "base_uri": "https://localhost:8080/",
          "height": 296
        },
        "id": "70OQUZ1mzFk8",
        "outputId": "6a453058-b5e8-4862-fc1f-7c884431240c"
      },
      "outputs": [
        {
          "output_type": "execute_result",
          "data": {
            "text/plain": [
              "[<matplotlib.lines.Line2D at 0x7f9ddf15bf90>]"
            ]
          },
          "metadata": {},
          "execution_count": 17
        },
        {
          "output_type": "display_data",
          "data": {
            "text/plain": [
              "<Figure size 432x288 with 1 Axes>"
            ],
            "image/png": "[encoded data removed]"
          },
          "metadata": {
            "needs_background": "light"
          }
        }
      ],
      "source": [
        "# TODO 11\n",
        "plt.xlabel(\"Epoch #\")\n",
        "plt.ylabel(\"Log Loss\")\n",
        "plt.semilogy(hist.history[\"loss\"])"
      ]
    },
    {
      "cell_type": "markdown",
      "metadata": {
        "id": "1NNWfxENzFk8"
      },
      "source": [
        "## Optimizing the Learning Rate\n",
        "\n",
        "One challenge in training neural networks is the selection of the learning rate.  Rerun the above code, trying four learning rates as shown in the vector `rates`.  For each learning rate:\n",
        "* clear the session\n",
        "* construct the network\n",
        "* select the optimizer.  Use the Adam optimizer with the appropriate learrning rate.\n",
        "* train the model for 20 epochs\n",
        "* save the accuracy and losses"
      ]
    },
    {
      "cell_type": "code",
      "execution_count": 18,
      "metadata": {
        "colab": {
          "base_uri": "https://localhost:8080/"
        },
        "id": "zYXYWIKjzFk8",
        "outputId": "4c98930a-d2ad-46eb-8444-488b2fc5482b"
      },
      "outputs": [
        {
          "output_type": "stream",
          "name": "stdout",
          "text": [
            "Epoch 1/20\n",
            "663/663 [==============================] - 3s 4ms/step - loss: 0.1093 - accuracy: 0.9649 - val_loss: 0.0371 - val_accuracy: 0.9874\n",
            "Epoch 2/20\n",
            "663/663 [==============================] - 3s 4ms/step - loss: 0.0271 - accuracy: 0.9908 - val_loss: 0.0358 - val_accuracy: 0.9872\n",
            "Epoch 3/20\n",
            "663/663 [==============================] - 3s 4ms/step - loss: 0.0186 - accuracy: 0.9938 - val_loss: 0.0412 - val_accuracy: 0.9835\n",
            "Epoch 4/20\n",
            "663/663 [==============================] - 3s 4ms/step - loss: 0.0204 - accuracy: 0.9929 - val_loss: 0.0406 - val_accuracy: 0.9864\n",
            "Epoch 5/20\n",
            "663/663 [==============================] - 3s 4ms/step - loss: 0.0175 - accuracy: 0.9944 - val_loss: 0.0421 - val_accuracy: 0.9853\n",
            "Epoch 6/20\n",
            "663/663 [==============================] - 3s 4ms/step - loss: 0.0129 - accuracy: 0.9957 - val_loss: 0.0564 - val_accuracy: 0.9830\n",
            "Epoch 7/20\n",
            "663/663 [==============================] - 3s 4ms/step - loss: 0.0104 - accuracy: 0.9966 - val_loss: 0.0585 - val_accuracy: 0.9834\n",
            "Epoch 8/20\n",
            "663/663 [==============================] - 2s 3ms/step - loss: 0.0126 - accuracy: 0.9960 - val_loss: 0.0463 - val_accuracy: 0.9873\n",
            "Epoch 9/20\n",
            "663/663 [==============================] - 2s 3ms/step - loss: 0.0126 - accuracy: 0.9962 - val_loss: 0.0487 - val_accuracy: 0.9879\n",
            "Epoch 10/20\n",
            "663/663 [==============================] - 2s 3ms/step - loss: 0.0121 - accuracy: 0.9962 - val_loss: 0.0429 - val_accuracy: 0.9891\n",
            "Epoch 11/20\n",
            "663/663 [==============================] - 2s 4ms/step - loss: 0.0117 - accuracy: 0.9964 - val_loss: 0.0511 - val_accuracy: 0.9877\n",
            "Epoch 12/20\n",
            "663/663 [==============================] - 2s 4ms/step - loss: 0.0106 - accuracy: 0.9970 - val_loss: 0.0555 - val_accuracy: 0.9881\n",
            "Epoch 13/20\n",
            "663/663 [==============================] - 3s 5ms/step - loss: 0.0125 - accuracy: 0.9963 - val_loss: 0.0392 - val_accuracy: 0.9886\n",
            "Epoch 14/20\n",
            "663/663 [==============================] - 2s 4ms/step - loss: 0.0063 - accuracy: 0.9980 - val_loss: 0.1044 - val_accuracy: 0.9752\n",
            "Epoch 15/20\n",
            "663/663 [==============================] - 2s 4ms/step - loss: 0.0130 - accuracy: 0.9964 - val_loss: 0.0378 - val_accuracy: 0.9895\n",
            "Epoch 16/20\n",
            "663/663 [==============================] - 3s 4ms/step - loss: 0.0116 - accuracy: 0.9965 - val_loss: 0.0587 - val_accuracy: 0.9862\n",
            "Epoch 17/20\n",
            "663/663 [==============================] - 2s 4ms/step - loss: 0.0071 - accuracy: 0.9980 - val_loss: 0.0862 - val_accuracy: 0.9805\n",
            "Epoch 18/20\n",
            "663/663 [==============================] - 2s 4ms/step - loss: 0.0092 - accuracy: 0.9976 - val_loss: 0.0803 - val_accuracy: 0.9869\n",
            "Epoch 19/20\n",
            "663/663 [==============================] - 3s 4ms/step - loss: 0.0076 - accuracy: 0.9977 - val_loss: 0.1114 - val_accuracy: 0.9768\n",
            "Epoch 20/20\n",
            "663/663 [==============================] - 2s 4ms/step - loss: 0.0075 - accuracy: 0.9976 - val_loss: 0.0556 - val_accuracy: 0.9874\n",
            "Epoch 1/20\n",
            "663/663 [==============================] - 3s 4ms/step - loss: 0.3677 - accuracy: 0.8990 - val_loss: 0.1867 - val_accuracy: 0.9505\n",
            "Epoch 2/20\n",
            "663/663 [==============================] - 2s 4ms/step - loss: 0.1031 - accuracy: 0.9752 - val_loss: 0.1023 - val_accuracy: 0.9687\n",
            "Epoch 3/20\n",
            "663/663 [==============================] - 2s 4ms/step - loss: 0.0603 - accuracy: 0.9859 - val_loss: 0.0601 - val_accuracy: 0.9853\n",
            "Epoch 4/20\n",
            "663/663 [==============================] - 3s 4ms/step - loss: 0.0422 - accuracy: 0.9895 - val_loss: 0.0503 - val_accuracy: 0.9876\n",
            "Epoch 5/20\n",
            "663/663 [==============================] - 3s 4ms/step - loss: 0.0321 - accuracy: 0.9917 - val_loss: 0.0427 - val_accuracy: 0.9883\n",
            "Epoch 6/20\n",
            "663/663 [==============================] - 2s 4ms/step - loss: 0.0253 - accuracy: 0.9934 - val_loss: 0.0333 - val_accuracy: 0.9912\n",
            "Epoch 7/20\n",
            "663/663 [==============================] - 2s 4ms/step - loss: 0.0206 - accuracy: 0.9947 - val_loss: 0.0312 - val_accuracy: 0.9906\n",
            "Epoch 8/20\n",
            "663/663 [==============================] - 3s 4ms/step - loss: 0.0173 - accuracy: 0.9954 - val_loss: 0.0284 - val_accuracy: 0.9913\n",
            "Epoch 9/20\n",
            "663/663 [==============================] - 2s 4ms/step - loss: 0.0150 - accuracy: 0.9963 - val_loss: 0.0255 - val_accuracy: 0.9917\n",
            "Epoch 10/20\n",
            "663/663 [==============================] - 2s 4ms/step - loss: 0.0129 - accuracy: 0.9966 - val_loss: 0.0306 - val_accuracy: 0.9901\n",
            "Epoch 11/20\n",
            "663/663 [==============================] - 2s 4ms/step - loss: 0.0113 - accuracy: 0.9972 - val_loss: 0.0233 - val_accuracy: 0.9922\n",
            "Epoch 12/20\n",
            "663/663 [==============================] - 3s 4ms/step - loss: 0.0103 - accuracy: 0.9972 - val_loss: 0.0246 - val_accuracy: 0.9913\n",
            "Epoch 13/20\n",
            "663/663 [==============================] - 2s 4ms/step - loss: 0.0088 - accuracy: 0.9977 - val_loss: 0.0243 - val_accuracy: 0.9915\n",
            "Epoch 14/20\n",
            "663/663 [==============================] - 3s 4ms/step - loss: 0.0082 - accuracy: 0.9979 - val_loss: 0.0264 - val_accuracy: 0.9909\n",
            "Epoch 15/20\n",
            "663/663 [==============================] - 3s 5ms/step - loss: 0.0078 - accuracy: 0.9978 - val_loss: 0.0309 - val_accuracy: 0.9885\n",
            "Epoch 16/20\n",
            "663/663 [==============================] - 2s 4ms/step - loss: 0.0069 - accuracy: 0.9983 - val_loss: 0.0262 - val_accuracy: 0.9899\n",
            "Epoch 17/20\n",
            "663/663 [==============================] - 2s 4ms/step - loss: 0.0067 - accuracy: 0.9980 - val_loss: 0.0233 - val_accuracy: 0.9916\n",
            "Epoch 18/20\n",
            "663/663 [==============================] - 3s 4ms/step - loss: 0.0059 - accuracy: 0.9983 - val_loss: 0.0280 - val_accuracy: 0.9901\n",
            "Epoch 19/20\n",
            "663/663 [==============================] - 3s 4ms/step - loss: 0.0053 - accuracy: 0.9987 - val_loss: 0.0240 - val_accuracy: 0.9918\n",
            "Epoch 20/20\n",
            "663/663 [==============================] - 4s 5ms/step - loss: 0.0054 - accuracy: 0.9985 - val_loss: 0.0357 - val_accuracy: 0.9877\n",
            "Epoch 1/20\n",
            "663/663 [==============================] - 3s 4ms/step - loss: 1.1244 - accuracy: 0.6529 - val_loss: 0.8709 - val_accuracy: 0.6608\n",
            "Epoch 2/20\n",
            "663/663 [==============================] - 3s 4ms/step - loss: 0.5577 - accuracy: 0.8534 - val_loss: 0.5839 - val_accuracy: 0.8256\n",
            "Epoch 3/20\n",
            "663/663 [==============================] - 2s 4ms/step - loss: 0.3872 - accuracy: 0.9127 - val_loss: 0.4454 - val_accuracy: 0.8733\n",
            "Epoch 4/20\n",
            "663/663 [==============================] - 2s 4ms/step - loss: 0.2987 - accuracy: 0.9332 - val_loss: 0.3641 - val_accuracy: 0.8930\n",
            "Epoch 5/20\n",
            "663/663 [==============================] - 2s 4ms/step - loss: 0.2421 - accuracy: 0.9454 - val_loss: 0.2953 - val_accuracy: 0.9171\n",
            "Epoch 6/20\n",
            "663/663 [==============================] - 3s 4ms/step - loss: 0.2020 - accuracy: 0.9540 - val_loss: 0.2452 - val_accuracy: 0.9330\n",
            "Epoch 7/20\n",
            "663/663 [==============================] - 2s 4ms/step - loss: 0.1714 - accuracy: 0.9601 - val_loss: 0.2183 - val_accuracy: 0.9353\n",
            "Epoch 8/20\n",
            "663/663 [==============================] - 2s 4ms/step - loss: 0.1476 - accuracy: 0.9652 - val_loss: 0.1807 - val_accuracy: 0.9471\n",
            "Epoch 9/20\n",
            "663/663 [==============================] - 2s 4ms/step - loss: 0.1285 - accuracy: 0.9699 - val_loss: 0.1606 - val_accuracy: 0.9511\n",
            "Epoch 10/20\n",
            "663/663 [==============================] - 3s 4ms/step - loss: 0.1131 - accuracy: 0.9733 - val_loss: 0.1348 - val_accuracy: 0.9652\n",
            "Epoch 11/20\n",
            "663/663 [==============================] - 3s 5ms/step - loss: 0.1004 - accuracy: 0.9761 - val_loss: 0.1252 - val_accuracy: 0.9638\n",
            "Epoch 12/20\n",
            "663/663 [==============================] - 2s 4ms/step - loss: 0.0900 - accuracy: 0.9789 - val_loss: 0.1110 - val_accuracy: 0.9699\n",
            "Epoch 13/20\n",
            "663/663 [==============================] - 2s 4ms/step - loss: 0.0813 - accuracy: 0.9809 - val_loss: 0.0970 - val_accuracy: 0.9762\n",
            "Epoch 14/20\n",
            "663/663 [==============================] - 3s 4ms/step - loss: 0.0739 - accuracy: 0.9829 - val_loss: 0.0923 - val_accuracy: 0.9762\n",
            "Epoch 15/20\n",
            "663/663 [==============================] - 3s 4ms/step - loss: 0.0678 - accuracy: 0.9843 - val_loss: 0.0863 - val_accuracy: 0.9783\n",
            "Epoch 16/20\n",
            "663/663 [==============================] - 3s 4ms/step - loss: 0.0625 - accuracy: 0.9855 - val_loss: 0.0806 - val_accuracy: 0.9793\n",
            "Epoch 17/20\n",
            "663/663 [==============================] - 2s 4ms/step - loss: 0.0579 - accuracy: 0.9863 - val_loss: 0.0709 - val_accuracy: 0.9829\n",
            "Epoch 18/20\n",
            "663/663 [==============================] - 2s 4ms/step - loss: 0.0539 - accuracy: 0.9872 - val_loss: 0.0647 - val_accuracy: 0.9850\n",
            "Epoch 19/20\n",
            "663/663 [==============================] - 2s 4ms/step - loss: 0.0504 - accuracy: 0.9881 - val_loss: 0.0640 - val_accuracy: 0.9840\n",
            "Epoch 20/20\n",
            "663/663 [==============================] - 2s 4ms/step - loss: 0.0474 - accuracy: 0.9888 - val_loss: 0.0592 - val_accuracy: 0.9855\n"
          ]
        }
      ],
      "source": [
        "rates = [0.01,0.001,0.0001]\n",
        "batch_size = 100\n",
        "loss_hist = []\n",
        "\n",
        "# TODO 12\n",
        "for lr in rates:\n",
        "  K.clear_session()\n",
        "  nin = Xtr.shape[1]\n",
        "  nh = 256     \n",
        "  nout = int(np.max(ytr)+1) \n",
        "  \n",
        "  model = Sequential()\n",
        "  model.add(Dense(units=nh, input_shape=(nin,), activation='sigmoid', name='hidden'))\n",
        "  model.add(Dense(units=nout, activation='softmax', name='output'))\n",
        "  opt = optimizers.Adam(learning_rate=lr) \n",
        "\n",
        "  model.compile(optimizer=opt,\n",
        "                loss='sparse_categorical_crossentropy',\n",
        "                metrics=['accuracy'])\n",
        "\n",
        "  hist = model.fit(Xtr_scale, ytr, epochs=20, batch_size=batch_size, validation_data=(Xts_scale,yts))\n",
        "\n",
        "  loss_hist.append(hist.history)"
      ]
    },
    {
      "cell_type": "markdown",
      "metadata": {
        "id": "OR35iiDjzFk8"
      },
      "source": [
        "Plot the loss funciton vs. the epoch number for all three learning rates on one graph.  You should see that the lower learning rates are more stable, but converge slower."
      ]
    },
    {
      "cell_type": "code",
      "execution_count": 19,
      "metadata": {
        "id": "ZJrnx_Z_zFk8"
      },
      "outputs": [],
      "source": [
        "# TODO 13"
      ]
    },
    {
      "cell_type": "code",
      "execution_count": 20,
      "metadata": {
        "colab": {
          "base_uri": "https://localhost:8080/",
          "height": 296
        },
        "id": "69vO3f9JzFk8",
        "outputId": "0da31209-f418-494b-bc36-5679e946cf0d"
      },
      "outputs": [
        {
          "output_type": "execute_result",
          "data": {
            "text/plain": [
              "<matplotlib.legend.Legend at 0x7f9ddd9ea150>"
            ]
          },
          "metadata": {},
          "execution_count": 20
        },
        {
          "output_type": "display_data",
          "data": {
            "text/plain": [
              "<Figure size 432x288 with 1 Axes>"
            ],
            "image/png": "[encoded data removed]"
          },
          "metadata": {
            "needs_background": "light"
          }
        }
      ],
      "source": [
        "plt.xlabel(\"Epoch #\")\n",
        "plt.ylabel(\"Log Loss\")\n",
        "\n",
        "plt.semilogy(loss_hist[0][\"loss\"], 'b', label='0.01')\n",
        "plt.semilogy(loss_hist[1][\"loss\"], 'r', label='0.001')\n",
        "plt.semilogy(loss_hist[2][\"loss\"], 'g', label='0.0001')\n",
        "plt.legend()"
      ]
    }
  ],
  "metadata": {
    "anaconda-cloud": {},
    "kernelspec": {
      "display_name": "Python 3",
      "language": "python",
      "name": "python3"
    },
    "language_info": {
      "codemirror_mode": {
        "name": "ipython",
        "version": 3
      },
      "file_extension": ".py",
      "mimetype": "text/x-python",
      "name": "python",
      "nbconvert_exporter": "python",
      "pygments_lexer": "ipython3",
      "version": "3.8.5"
    },
    "colab": {
      "provenance": [],
      "include_colab_link": true
    }
  },
  "nbformat": 4,
  "nbformat_minor": 0
}